{
 "cells": [
  {
   "cell_type": "code",
   "execution_count": 1,
   "id": "bd121062",
   "metadata": {},
   "outputs": [],
   "source": [
    "import numpy as np\n",
    "import random\n",
    "import math\n",
    "import os\n",
    "import pandas as pd\n",
    "import logging\n",
    "\n",
    "import torch\n",
    "import torch.nn as nn\n",
    "import torch.nn.functional as F\n",
    "from torch.autograd import Variable\n",
    "from torch.nn.utils.rnn import pack_padded_sequence, pad_packed_sequence\n",
    "from model_gcn import GAT, GCN, Rel_GAT\n",
    "from model_utils import LinearAttention, DotprodAttention, RelationAttention, Highway, mask_logits\n",
    "from tree import *\n",
    "from datasets import load_datasets_and_vocabs\n",
    "from sklearn.metrics import f1_score, matthews_corrcoef\n",
    "from tensorboardX import SummaryWriter\n",
    "from torch.utils.data import DataLoader, RandomSampler, SequentialSampler\n",
    "from tqdm import tqdm, trange\n",
    "from datasets import my_collate, my_collate_elmo\n",
    "from transformers import AdamW\n",
    "\n",
    "\n",
    "    \n",
    "class Parameters:\n",
    "    def __init__(self):\n",
    "        pass"
   ]
  },
  {
   "cell_type": "code",
   "execution_count": 2,
   "id": "df0342d2",
   "metadata": {},
   "outputs": [],
   "source": [
    "\n",
    "\n",
    "\n",
    "class Aspect_Text_GAT_ours(nn.Module):\n",
    "    \"\"\"\n",
    "    Full model in reshaped tree\n",
    "    \"\"\"\n",
    "    def __init__(self, args, dep_tag_num, pos_tag_num):\n",
    "        super(Aspect_Text_GAT_ours, self).__init__()\n",
    "        self.args = args\n",
    "\n",
    "        num_embeddings, embed_dim = args.glove_embedding.shape\n",
    "        self.embed = nn.Embedding(num_embeddings, embed_dim)\n",
    "        self.embed.weight = nn.Parameter(\n",
    "            args.glove_embedding, requires_grad=False)\n",
    "\n",
    "        self.dropout = nn.Dropout(args.dropout)\n",
    "        self.tanh = nn.Tanh()\n",
    "\n",
    "        if args.highway:\n",
    "            self.highway_dep = Highway(args.num_layers, args.embedding_dim)\n",
    "            self.highway = Highway(args.num_layers, args.embedding_dim)\n",
    "\n",
    "        self.bilstm = nn.LSTM(input_size=args.embedding_dim, hidden_size=args.hidden_size,\n",
    "                              bidirectional=True, batch_first=True, num_layers=args.num_layers)\n",
    "        gcn_input_dim = args.hidden_size * 2\n",
    "\n",
    "        # if args.gat:\n",
    "        self.gat_dep = [RelationAttention(in_dim = args.embedding_dim).to(args.device) for i in range(args.num_heads)]\n",
    "        if args.gat_attention_type == 'linear':\n",
    "            self.gat = [LinearAttention(in_dim = gcn_input_dim, mem_dim = gcn_input_dim).to(args.device) for i in range(args.num_heads)] # we prefer to keep the dimension unchanged\n",
    "        elif args.gat_attention_type == 'dotprod':\n",
    "            self.gat = [DotprodAttention().to(args.device) for i in range(args.num_heads)]\n",
    "        else:\n",
    "            # reshaped gcn\n",
    "            self.gat = nn.Linear(gcn_input_dim, gcn_input_dim)\n",
    "\n",
    "        self.dep_embed = nn.Embedding(dep_tag_num, args.embedding_dim)\n",
    "\n",
    "        last_hidden_size = args.hidden_size * 4\n",
    "\n",
    "        layers = [\n",
    "            nn.Linear(last_hidden_size, args.final_hidden_size), nn.ReLU()]\n",
    "        for _ in range(args.num_mlps-1):\n",
    "            layers += [nn.Linear(args.final_hidden_size,\n",
    "                                 args.final_hidden_size), nn.ReLU()]\n",
    "        self.fcs = nn.Sequential(*layers)\n",
    "        self.fc_final = nn.Linear(args.final_hidden_size, args.num_classes)\n",
    "\n",
    "    def forward(self, sentence, aspect, pos_class, dep_tags, text_len, aspect_len, dep_rels, dep_heads, aspect_position, dep_dirs):\n",
    "        '''\n",
    "        Forward takes:\n",
    "            sentence: sentence_id of size (batch_size, text_length)\n",
    "            aspect: aspect_id of size (batch_size, aspect_length)\n",
    "            pos_class: pos_tag_id of size (batch_size, text_length)\n",
    "            dep_tags: dep_tag_id of size (batch_size, text_length)\n",
    "            text_len: (batch_size,) length of each sentence\n",
    "            aspect_len: (batch_size, ) aspect length of each sentence\n",
    "            dep_rels: (batch_size, text_length) relation\n",
    "            dep_heads: (batch_size, text_length) which node adjacent to that node\n",
    "            aspect_position: (batch_size, text_length) mask, with the position of aspect as 1 and others as 0\n",
    "            dep_dirs: (batch_size, text_length) the directions each node to the aspect\n",
    "        '''\n",
    "        fmask = (torch.zeros_like(sentence) != sentence).float()  # (N，L)\n",
    "        dmask = (torch.zeros_like(dep_tags) != dep_tags).float()  # (N ,L)\n",
    "\n",
    "        feature = self.embed(sentence)  # (N, L, D)\n",
    "        aspect_feature = self.embed(aspect) # (N, L', D)\n",
    "        feature = self.dropout(feature)\n",
    "        aspect_feature = self.dropout(aspect_feature)\n",
    "\n",
    "        if self.args.highway:\n",
    "            feature = self.highway(feature)\n",
    "            aspect_feature = self.highway(aspect_feature)\n",
    "\n",
    "        feature, _ = self.bilstm(feature) # (N,L,D)\n",
    "        aspect_feature, _ = self.bilstm(aspect_feature) #(N,L,D)\n",
    "\n",
    "        aspect_feature = aspect_feature.mean(dim = 1) # (N, D)\n",
    "\n",
    "        ############################################################################################\n",
    "        # do gat thing\n",
    "        dep_feature = self.dep_embed(dep_tags)\n",
    "        if self.args.highway:\n",
    "            dep_feature = self.highway_dep(dep_feature)\n",
    "\n",
    "        dep_out = [g(feature, dep_feature, fmask).unsqueeze(1) for g in self.gat_dep]  # (N, 1, D) * num_heads\n",
    "        dep_out = torch.cat(dep_out, dim = 1) # (N, H, D)\n",
    "        dep_out = dep_out.mean(dim = 1) # (N, D)\n",
    "\n",
    "        if self.args.gat_attention_type == 'gcn':\n",
    "            gat_out = self.gat(feature) # (N, L, D)\n",
    "            fmask = fmask.unsqueeze(2)\n",
    "            gat_out = gat_out * fmask\n",
    "            gat_out = F.relu(torch.sum(gat_out, dim = 1)) # (N, D)\n",
    "\n",
    "        else:\n",
    "            gat_out = [g(feature, aspect_feature, fmask).unsqueeze(1) for g in self.gat]\n",
    "            gat_out = torch.cat(gat_out, dim=1)\n",
    "            gat_out = gat_out.mean(dim=1)\n",
    "\n",
    "        feature_out = torch.cat([dep_out,  gat_out], dim = 1) # (N, D')\n",
    "        # feature_out = gat_out\n",
    "        #############################################################################################\n",
    "        x = self.dropout(feature_out)\n",
    "        x = self.fcs(x)\n",
    "        logit = self.fc_final(x)\n",
    "        return logit"
   ]
  },
  {
   "cell_type": "code",
   "execution_count": 3,
   "id": "e8d4e797",
   "metadata": {},
   "outputs": [],
   "source": [
    "def set_seed(args):\n",
    "    random.seed(args.seed)\n",
    "    np.random.seed(args.seed)\n",
    "    torch.manual_seed(args.seed)\n",
    "\n",
    "\n",
    "def get_input_from_batch(args, batch):\n",
    "    embedding_type = args.embedding_type\n",
    "    if embedding_type == 'glove' or embedding_type == 'elmo':\n",
    "        # sentence_ids, aspect_ids, dep_tag_ids, pos_class, text_len, aspect_len, sentiment, dep_rel_ids, dep_heads, aspect_positions\n",
    "        inputs = {  'sentence': batch[0],\n",
    "                    'aspect': batch[1], # aspect token\n",
    "                    'dep_tags': batch[2], # reshaped\n",
    "                    'pos_class': batch[3],\n",
    "                    'text_len': batch[4],\n",
    "                    'aspect_len': batch[5],\n",
    "                    'dep_rels': batch[7], # adj no-reshape\n",
    "                    'dep_heads': batch[8],\n",
    "                    'aspect_position': batch[9],\n",
    "                    'dep_dirs': batch[10]\n",
    "                    }\n",
    "        labels = batch[6]\n",
    "    return inputs, labels\n",
    "\n",
    "\n",
    "def get_collate_fn(args):\n",
    "    embedding_type = args.embedding_type\n",
    "    if embedding_type == 'glove':\n",
    "        return my_collate\n"
   ]
  },
  {
   "cell_type": "code",
   "execution_count": 4,
   "id": "ab7ea565",
   "metadata": {},
   "outputs": [],
   "source": [
    "def train(args, train_dataset, model, test_dataset):\n",
    "    '''Train the model'''\n",
    "    tb_writer = SummaryWriter()\n",
    "\n",
    "    args.train_batch_size = args.per_gpu_train_batch_size\n",
    "    train_sampler = RandomSampler(train_dataset)\n",
    "    collate_fn = get_collate_fn(args)\n",
    "    train_dataloader = DataLoader(train_dataset, sampler=train_sampler,\n",
    "                                  batch_size=args.train_batch_size,\n",
    "                                  collate_fn=collate_fn)\n",
    "\n",
    "    if args.max_steps > 0:\n",
    "        t_total = args.max_steps\n",
    "        args.num_train_epochs = args.max_steps // (\n",
    "            len(train_dataloader) // args.gradient_accumulation_steps) + 1\n",
    "    else:\n",
    "        t_total = len(\n",
    "            train_dataloader) // args.gradient_accumulation_steps * args.num_train_epochs\n",
    "\n",
    "    \n",
    "    \n",
    "    parameters = filter(lambda param: param.requires_grad, model.parameters())\n",
    "    optimizer = torch.optim.Adam(parameters, lr=args.learning_rate)\n",
    "\n",
    "    # Train\n",
    "    print(\"***** Running training *****\")\n",
    "    print(\"Num examples: {}; Epochs: {}; Gradient Accumulation steps: {}; Total optimization steps: {}\".format(len(train_dataset), args.num_train_epochs, args.gradient_accumulation_steps, t_total))\n",
    "\n",
    "    global_step = 0\n",
    "    tr_loss, logging_loss = 0.0, 0.0\n",
    "    all_eval_results = []\n",
    "    model.zero_grad()\n",
    "    train_iterator = trange(int(args.num_train_epochs), desc=\"Epoch\")\n",
    "    set_seed(args)\n",
    "    for _ in train_iterator:\n",
    "        # epoch_iterator = tqdm(train_dataloader, desc='Iteration')\n",
    "        for step, batch in enumerate(train_dataloader):\n",
    "            model.train()\n",
    "            batch = tuple(t.to(args.device) for t in batch)\n",
    "\n",
    "            inputs, labels = get_input_from_batch(args, batch)\n",
    "            logit = model(**inputs)\n",
    "            loss = F.cross_entropy(logit, labels)\n",
    "\n",
    "            if args.gradient_accumulation_steps > 1:\n",
    "                loss = loss / args.gradient_accumulation_steps\n",
    "\n",
    "            loss.backward()\n",
    "            torch.nn.utils.clip_grad_norm_(\n",
    "                model.parameters(), args.max_grad_norm)\n",
    "\n",
    "            tr_loss += loss.item()\n",
    "            if (step + 1) % args.gradient_accumulation_steps == 0:\n",
    "                # scheduler.step()  # Update learning rate schedule\n",
    "                optimizer.step()\n",
    "                model.zero_grad()\n",
    "                global_step += 1\n",
    "\n",
    "                # Log metrics\n",
    "                if args.logging_steps > 0 and global_step % args.logging_steps == 0:\n",
    "                    results, eval_loss = evaluate(args, test_dataset, model)\n",
    "                    all_eval_results.append(results)\n",
    "                    for key, value in results.items():\n",
    "                        tb_writer.add_scalar(\n",
    "                            'eval_{}'.format(key), value, global_step)\n",
    "                    tb_writer.add_scalar('eval_loss', eval_loss, global_step)\n",
    "                    # tb_writer.add_scalar('lr', scheduler.get_lr()[0], global_step)\n",
    "                    tb_writer.add_scalar(\n",
    "                        'train_loss', (tr_loss - logging_loss) / args.logging_steps, global_step)\n",
    "                    logging_loss = tr_loss\n",
    "\n",
    "                # Save model checkpoint\n",
    "\n",
    "            if args.max_steps > 0 and global_step > args.max_steps:\n",
    "                epoch_iterator.close()\n",
    "                break\n",
    "        if args.max_steps > 0 and global_step > args.max_steps:\n",
    "            epoch_iterator.close()\n",
    "            break\n",
    "\n",
    "    tb_writer.close()\n",
    "    return global_step, tr_loss/global_step, all_eval_results\n",
    "\n",
    "\n",
    "def evaluate(args, eval_dataset, model):\n",
    "    results = {}\n",
    "\n",
    "    args.eval_batch_size = args.per_gpu_eval_batch_size\n",
    "    eval_sampler = SequentialSampler(eval_dataset)\n",
    "    collate_fn = get_collate_fn(args)\n",
    "    eval_dataloader = DataLoader(eval_dataset, sampler=eval_sampler,\n",
    "                                 batch_size=args.eval_batch_size,\n",
    "                                 collate_fn=collate_fn)\n",
    "\n",
    "    # Eval\n",
    "    print(\"***** Running evaluation *****\")\n",
    "    print(\"Num examples: {}; Batch size: {}\".format(len(eval_dataset), args.eval_batch_size))\n",
    "    eval_loss = 0.0\n",
    "    nb_eval_steps = 0\n",
    "    preds = None\n",
    "    out_label_ids = None\n",
    "    for batch in eval_dataloader:\n",
    "    # for batch in tqdm(eval_dataloader, desc='Evaluating'):\n",
    "        model.eval()\n",
    "        batch = tuple(t.to(args.device) for t in batch)\n",
    "        with torch.no_grad():\n",
    "            inputs, labels = get_input_from_batch(args, batch)\n",
    "\n",
    "            logits = model(**inputs)\n",
    "            tmp_eval_loss = F.cross_entropy(logits, labels)\n",
    "\n",
    "            eval_loss += tmp_eval_loss.mean().item()\n",
    "        nb_eval_steps += 1\n",
    "        if preds is None:\n",
    "            preds = logits.detach().cpu().numpy()\n",
    "            out_label_ids = labels.detach().cpu().numpy()\n",
    "        else:\n",
    "            preds = np.append(preds, logits.detach().cpu().numpy(), axis=0)\n",
    "            out_label_ids = np.append(\n",
    "                out_label_ids, labels.detach().cpu().numpy(), axis=0)\n",
    "\n",
    "    eval_loss = eval_loss / nb_eval_steps\n",
    "    preds = np.argmax(preds, axis=1)\n",
    "    # print(preds)\n",
    "    result = compute_metrics(preds, out_label_ids)\n",
    "    results.update(result)\n",
    "\n",
    "    output_eval_file = os.path.join(args.output_dir, 'eval_results.txt')\n",
    "    with open(output_eval_file, 'a+') as writer:\n",
    "        print('***** Eval results *****')\n",
    "        print(\"eval loss: {}\".format(eval_loss))\n",
    "        for key in sorted(result.keys()):\n",
    "            print(\"{} = {}\".format(key, str(result[key])))\n",
    "    return results, eval_loss\n",
    "\n",
    "\n",
    "def evaluate_badcase(args, eval_dataset, model, word_vocab):\n",
    "\n",
    "    eval_sampler = SequentialSampler(eval_dataset)\n",
    "    collate_fn = get_collate_fn(args)\n",
    "    eval_dataloader = DataLoader(eval_dataset, sampler=eval_sampler,\n",
    "                                 batch_size=1,\n",
    "                                 collate_fn=collate_fn)\n",
    "\n",
    "    # Eval\n",
    "    badcases = []\n",
    "    eval_loss = 0.0\n",
    "    nb_eval_steps = 0\n",
    "    preds = None\n",
    "    out_label_ids = None\n",
    "    for batch in eval_dataloader:\n",
    "    # for batch in tqdm(eval_dataloader, desc='Evaluating'):\n",
    "        model.eval()\n",
    "        batch = tuple(t.to(args.device) for t in batch)\n",
    "        with torch.no_grad():\n",
    "            inputs, labels = get_input_from_batch(args, batch)\n",
    "\n",
    "            logits = model(**inputs)\n",
    "\n",
    "        pred = int(np.argmax(logits.detach().cpu().numpy(), axis=1)[0])\n",
    "        label = int(labels.detach().cpu().numpy()[0])\n",
    "        if pred != label:\n",
    "            sent_ids = inputs['sentence'][0].detach().cpu().numpy()\n",
    "            aspect_ids = inputs['aspect'][0].detach().cpu().numpy()\n",
    "            case = {}\n",
    "            case['sentence'] = ' '.join([word_vocab['itos'][i] for i in sent_ids])\n",
    "            case['aspect'] = ' '.join([word_vocab['itos'][i] for i in aspect_ids])\n",
    "            case['pred'] = pred\n",
    "            case['label'] = label\n",
    "            badcases.append(case)\n",
    "\n",
    "    return badcases"
   ]
  },
  {
   "cell_type": "code",
   "execution_count": 5,
   "id": "aad3b82a",
   "metadata": {},
   "outputs": [],
   "source": [
    "def simple_accuracy(preds, labels):\n",
    "    return (preds == labels).mean()\n",
    "\n",
    "\n",
    "def acc_and_f1(preds, labels):\n",
    "    acc = simple_accuracy(preds, labels)\n",
    "    f1 = f1_score(y_true=labels, y_pred=preds, average='macro')\n",
    "    return {\n",
    "        \"acc\": acc,\n",
    "        \"f1\": f1\n",
    "    }\n",
    "\n",
    "\n",
    "def compute_metrics(preds, labels):\n",
    "    return acc_and_f1(preds, labels)\n"
   ]
  },
  {
   "cell_type": "code",
   "execution_count": 6,
   "id": "29d858d6",
   "metadata": {},
   "outputs": [],
   "source": [
    "parameters = Parameters()\n",
    "# Required parameters\n",
    "parameters.dataset_name = \"rest\"\n",
    "parameters.output_dir = '/data1/SHENWZH/ABSA_online/data/output-gcn'\n",
    "parameters.num_classes = 3\n",
    "parameters.seed = 2019\n",
    "\n",
    "\n",
    "# Model parameters\n",
    "parameters.glove_dir = \"glove\"\n",
    "parameters.num_layers = 2\n",
    "parameters.add_non_connect = True\n",
    "parameters.multi_hop = True\n",
    "parameters.max_hop = 4\n",
    "parameters.num_heads = 7\n",
    "parameters.dropout = 0.8\n",
    "parameters.num_gcn_layers = 1\n",
    "parameters.gcn_mem_dim = 300\n",
    "parameters.gcn_dropout = 0.2\n",
    "parameters.highway = 'store_true'\n",
    "\n",
    "# GAT\n",
    "parameters.gat_attention_type = 'dotprod'\n",
    "parameters.embedding_type = 'glove'\n",
    "parameters.embedding_dim = 300\n",
    "parameters.dep_relation_embed_dim = 300    \n",
    "parameters.hidden_size = 300 \n",
    "parameters.final_hidden_size = 300 \n",
    "parameters.num_mlps = 2\n",
    "\n",
    "# Training parameters\n",
    "parameters.per_gpu_train_batch_size = 16\n",
    "parameters.per_gpu_eval_batch_size = 32\n",
    "parameters.gradient_accumulation_steps = 2\n",
    "parameters.learning_rate = 1e-3\n",
    "parameters.weight_decay = 0.0\n",
    "parameters.adam_epsilon = 1e-8\n",
    "parameters.max_grad_norm = 1.0\n",
    "parameters.num_train_epochs = 30.0\n",
    "parameters.max_steps = -1\n",
    "parameters.logging_steps = 50"
   ]
  },
  {
   "cell_type": "code",
   "execution_count": 7,
   "id": "7e3c09a0",
   "metadata": {},
   "outputs": [
    {
     "name": "stdout",
     "output_type": "stream",
     "text": [
      "Device is cuda\n",
      "***** Running training *****\n",
      "Num examples: 3602; Epochs: 30.0; Gradient Accumulation steps: 2; Total optimization steps: 3390.0\n"
     ]
    },
    {
     "name": "stderr",
     "output_type": "stream",
     "text": [
      "Epoch:   0%|                                                                                    | 0/30 [00:00<?, ?it/s]C:\\Users\\harsh\\AppData\\Roaming\\Python\\Python39\\site-packages\\torch\\nn\\functional.py:1944: UserWarning: nn.functional.sigmoid is deprecated. Use torch.sigmoid instead.\n",
      "  warnings.warn(\"nn.functional.sigmoid is deprecated. Use torch.sigmoid instead.\")\n"
     ]
    },
    {
     "name": "stdout",
     "output_type": "stream",
     "text": [
      "***** Running evaluation *****\n",
      "Num examples: 1120; Batch size: 32\n",
      "***** Eval results *****\n",
      "eval loss: 0.7166533734117235\n",
      "acc = 0.6580357142857143\n",
      "f1 = 0.29600637746984604\n"
     ]
    },
    {
     "name": "stderr",
     "output_type": "stream",
     "text": [
      "C:\\Users\\harsh\\AppData\\Roaming\\Python\\Python39\\site-packages\\torch\\nn\\functional.py:1944: UserWarning: nn.functional.sigmoid is deprecated. Use torch.sigmoid instead.\n",
      "  warnings.warn(\"nn.functional.sigmoid is deprecated. Use torch.sigmoid instead.\")\n"
     ]
    },
    {
     "name": "stdout",
     "output_type": "stream",
     "text": [
      "***** Running evaluation *****\n",
      "Num examples: 1120; Batch size: 32\n",
      "***** Eval results *****\n",
      "eval loss: 0.6880210152694157\n",
      "acc = 0.7241071428571428\n",
      "f1 = 0.47306098367316524\n"
     ]
    },
    {
     "name": "stderr",
     "output_type": "stream",
     "text": [
      "C:\\Users\\harsh\\AppData\\Roaming\\Python\\Python39\\site-packages\\torch\\nn\\functional.py:1944: UserWarning: nn.functional.sigmoid is deprecated. Use torch.sigmoid instead.\n",
      "  warnings.warn(\"nn.functional.sigmoid is deprecated. Use torch.sigmoid instead.\")\n",
      "Epoch:   3%|██▌                                                                         | 1/30 [00:07<03:35,  7.43s/it]"
     ]
    },
    {
     "name": "stdout",
     "output_type": "stream",
     "text": [
      "***** Running evaluation *****\n",
      "Num examples: 1120; Batch size: 32\n",
      "***** Eval results *****\n",
      "eval loss: 0.6668534449168614\n",
      "acc = 0.7160714285714286\n",
      "f1 = 0.4522880069399262\n"
     ]
    },
    {
     "name": "stderr",
     "output_type": "stream",
     "text": [
      "C:\\Users\\harsh\\AppData\\Roaming\\Python\\Python39\\site-packages\\torch\\nn\\functional.py:1944: UserWarning: nn.functional.sigmoid is deprecated. Use torch.sigmoid instead.\n",
      "  warnings.warn(\"nn.functional.sigmoid is deprecated. Use torch.sigmoid instead.\")\n"
     ]
    },
    {
     "name": "stdout",
     "output_type": "stream",
     "text": [
      "***** Running evaluation *****\n",
      "Num examples: 1120; Batch size: 32\n",
      "***** Eval results *****\n",
      "eval loss: 0.6339992386954171\n",
      "acc = 0.7294642857142857\n",
      "f1 = 0.4902302903661138\n"
     ]
    },
    {
     "name": "stderr",
     "output_type": "stream",
     "text": [
      "C:\\Users\\harsh\\AppData\\Roaming\\Python\\Python39\\site-packages\\torch\\nn\\functional.py:1944: UserWarning: nn.functional.sigmoid is deprecated. Use torch.sigmoid instead.\n",
      "  warnings.warn(\"nn.functional.sigmoid is deprecated. Use torch.sigmoid instead.\")\n",
      "Epoch:   7%|█████                                                                       | 2/30 [00:13<03:04,  6.61s/it]"
     ]
    },
    {
     "name": "stdout",
     "output_type": "stream",
     "text": [
      "***** Running evaluation *****\n",
      "Num examples: 1120; Batch size: 32\n",
      "***** Eval results *****\n",
      "eval loss: 0.62323716708592\n",
      "acc = 0.7330357142857142\n",
      "f1 = 0.48585068991064917\n"
     ]
    },
    {
     "name": "stderr",
     "output_type": "stream",
     "text": [
      "C:\\Users\\harsh\\AppData\\Roaming\\Python\\Python39\\site-packages\\torch\\nn\\functional.py:1944: UserWarning: nn.functional.sigmoid is deprecated. Use torch.sigmoid instead.\n",
      "  warnings.warn(\"nn.functional.sigmoid is deprecated. Use torch.sigmoid instead.\")\n"
     ]
    },
    {
     "name": "stdout",
     "output_type": "stream",
     "text": [
      "***** Running evaluation *****\n",
      "Num examples: 1120; Batch size: 32\n",
      "***** Eval results *****\n",
      "eval loss: 0.6167626244681222\n",
      "acc = 0.7348214285714286\n",
      "f1 = 0.4872653019510465\n"
     ]
    },
    {
     "name": "stderr",
     "output_type": "stream",
     "text": [
      "C:\\Users\\harsh\\AppData\\Roaming\\Python\\Python39\\site-packages\\torch\\nn\\functional.py:1944: UserWarning: nn.functional.sigmoid is deprecated. Use torch.sigmoid instead.\n",
      "  warnings.warn(\"nn.functional.sigmoid is deprecated. Use torch.sigmoid instead.\")\n",
      "Epoch:  10%|███████▌                                                                    | 3/30 [00:19<02:51,  6.33s/it]"
     ]
    },
    {
     "name": "stdout",
     "output_type": "stream",
     "text": [
      "***** Running evaluation *****\n",
      "Num examples: 1120; Batch size: 32\n",
      "***** Eval results *****\n",
      "eval loss: 0.6203673613922936\n",
      "acc = 0.7276785714285714\n",
      "f1 = 0.4795998620748438\n"
     ]
    },
    {
     "name": "stderr",
     "output_type": "stream",
     "text": [
      "C:\\Users\\harsh\\AppData\\Roaming\\Python\\Python39\\site-packages\\torch\\nn\\functional.py:1944: UserWarning: nn.functional.sigmoid is deprecated. Use torch.sigmoid instead.\n",
      "  warnings.warn(\"nn.functional.sigmoid is deprecated. Use torch.sigmoid instead.\")\n"
     ]
    },
    {
     "name": "stdout",
     "output_type": "stream",
     "text": [
      "***** Running evaluation *****\n",
      "Num examples: 1120; Batch size: 32\n",
      "***** Eval results *****\n",
      "eval loss: 0.5947860756090709\n",
      "acc = 0.7589285714285714\n",
      "f1 = 0.5610557722266577\n"
     ]
    },
    {
     "name": "stderr",
     "output_type": "stream",
     "text": [
      "C:\\Users\\harsh\\AppData\\Roaming\\Python\\Python39\\site-packages\\torch\\nn\\functional.py:1944: UserWarning: nn.functional.sigmoid is deprecated. Use torch.sigmoid instead.\n",
      "  warnings.warn(\"nn.functional.sigmoid is deprecated. Use torch.sigmoid instead.\")\n"
     ]
    },
    {
     "name": "stdout",
     "output_type": "stream",
     "text": [
      "***** Running evaluation *****\n",
      "Num examples: 1120; Batch size: 32\n"
     ]
    },
    {
     "name": "stderr",
     "output_type": "stream",
     "text": [
      "C:\\Users\\harsh\\AppData\\Roaming\\Python\\Python39\\site-packages\\torch\\nn\\functional.py:1944: UserWarning: nn.functional.sigmoid is deprecated. Use torch.sigmoid instead.\n",
      "  warnings.warn(\"nn.functional.sigmoid is deprecated. Use torch.sigmoid instead.\")\n",
      "\r",
      "Epoch:  13%|██████████▏                                                                 | 4/30 [00:26<02:48,  6.48s/it]"
     ]
    },
    {
     "name": "stdout",
     "output_type": "stream",
     "text": [
      "***** Eval results *****\n",
      "eval loss: 0.5579309552907944\n",
      "acc = 0.7723214285714286\n",
      "f1 = 0.6165016436111507\n",
      "***** Running evaluation *****\n",
      "Num examples: 1120; Batch size: 32\n",
      "***** Eval results *****\n",
      "eval loss: 0.5451912002904075\n",
      "acc = 0.7875\n",
      "f1 = 0.6500591178453149\n"
     ]
    },
    {
     "name": "stderr",
     "output_type": "stream",
     "text": [
      "C:\\Users\\harsh\\AppData\\Roaming\\Python\\Python39\\site-packages\\torch\\nn\\functional.py:1944: UserWarning: nn.functional.sigmoid is deprecated. Use torch.sigmoid instead.\n",
      "  warnings.warn(\"nn.functional.sigmoid is deprecated. Use torch.sigmoid instead.\")\n"
     ]
    },
    {
     "name": "stdout",
     "output_type": "stream",
     "text": [
      "***** Running evaluation *****\n",
      "Num examples: 1120; Batch size: 32\n",
      "***** Eval results *****\n",
      "eval loss: 0.5611427490200315\n",
      "acc = 0.775\n",
      "f1 = 0.6348227921395975\n"
     ]
    },
    {
     "name": "stderr",
     "output_type": "stream",
     "text": [
      "C:\\Users\\harsh\\AppData\\Roaming\\Python\\Python39\\site-packages\\torch\\nn\\functional.py:1944: UserWarning: nn.functional.sigmoid is deprecated. Use torch.sigmoid instead.\n",
      "  warnings.warn(\"nn.functional.sigmoid is deprecated. Use torch.sigmoid instead.\")\n",
      "Epoch:  17%|████████████▋                                                               | 5/30 [00:32<02:40,  6.42s/it]"
     ]
    },
    {
     "name": "stdout",
     "output_type": "stream",
     "text": [
      "***** Running evaluation *****\n",
      "Num examples: 1120; Batch size: 32\n",
      "***** Eval results *****\n",
      "eval loss: 0.5656166472605296\n",
      "acc = 0.7803571428571429\n",
      "f1 = 0.6403044565871862\n"
     ]
    },
    {
     "name": "stderr",
     "output_type": "stream",
     "text": [
      "C:\\Users\\harsh\\AppData\\Roaming\\Python\\Python39\\site-packages\\torch\\nn\\functional.py:1944: UserWarning: nn.functional.sigmoid is deprecated. Use torch.sigmoid instead.\n",
      "  warnings.warn(\"nn.functional.sigmoid is deprecated. Use torch.sigmoid instead.\")\n"
     ]
    },
    {
     "name": "stdout",
     "output_type": "stream",
     "text": [
      "***** Running evaluation *****\n",
      "Num examples: 1120; Batch size: 32\n",
      "***** Eval results *****\n",
      "eval loss: 0.6117171560014997\n",
      "acc = 0.7580357142857143\n",
      "f1 = 0.6316541467890711\n"
     ]
    },
    {
     "name": "stderr",
     "output_type": "stream",
     "text": [
      "C:\\Users\\harsh\\AppData\\Roaming\\Python\\Python39\\site-packages\\torch\\nn\\functional.py:1944: UserWarning: nn.functional.sigmoid is deprecated. Use torch.sigmoid instead.\n",
      "  warnings.warn(\"nn.functional.sigmoid is deprecated. Use torch.sigmoid instead.\")\n",
      "Epoch:  20%|███████████████▏                                                            | 6/30 [00:39<02:35,  6.48s/it]"
     ]
    },
    {
     "name": "stdout",
     "output_type": "stream",
     "text": [
      "***** Running evaluation *****\n",
      "Num examples: 1120; Batch size: 32\n",
      "***** Eval results *****\n",
      "eval loss: 0.5552669759307589\n",
      "acc = 0.7794642857142857\n",
      "f1 = 0.6340110341894206\n"
     ]
    },
    {
     "name": "stderr",
     "output_type": "stream",
     "text": [
      "C:\\Users\\harsh\\AppData\\Roaming\\Python\\Python39\\site-packages\\torch\\nn\\functional.py:1944: UserWarning: nn.functional.sigmoid is deprecated. Use torch.sigmoid instead.\n",
      "  warnings.warn(\"nn.functional.sigmoid is deprecated. Use torch.sigmoid instead.\")\n"
     ]
    },
    {
     "name": "stdout",
     "output_type": "stream",
     "text": [
      "***** Running evaluation *****\n",
      "Num examples: 1120; Batch size: 32\n",
      "***** Eval results *****\n",
      "eval loss: 0.5468312983001982\n",
      "acc = 0.7821428571428571\n",
      "f1 = 0.6279655387682892\n"
     ]
    },
    {
     "name": "stderr",
     "output_type": "stream",
     "text": [
      "C:\\Users\\harsh\\AppData\\Roaming\\Python\\Python39\\site-packages\\torch\\nn\\functional.py:1944: UserWarning: nn.functional.sigmoid is deprecated. Use torch.sigmoid instead.\n",
      "  warnings.warn(\"nn.functional.sigmoid is deprecated. Use torch.sigmoid instead.\")\n",
      "Epoch:  23%|█████████████████▋                                                          | 7/30 [00:45<02:28,  6.47s/it]"
     ]
    },
    {
     "name": "stdout",
     "output_type": "stream",
     "text": [
      "***** Running evaluation *****\n",
      "Num examples: 1120; Batch size: 32\n",
      "***** Eval results *****\n",
      "eval loss: 0.5293195562703269\n",
      "acc = 0.7705357142857143\n",
      "f1 = 0.5871423353310624\n"
     ]
    },
    {
     "name": "stderr",
     "output_type": "stream",
     "text": [
      "C:\\Users\\harsh\\AppData\\Roaming\\Python\\Python39\\site-packages\\torch\\nn\\functional.py:1944: UserWarning: nn.functional.sigmoid is deprecated. Use torch.sigmoid instead.\n",
      "  warnings.warn(\"nn.functional.sigmoid is deprecated. Use torch.sigmoid instead.\")\n"
     ]
    },
    {
     "name": "stdout",
     "output_type": "stream",
     "text": [
      "***** Running evaluation *****\n",
      "Num examples: 1120; Batch size: 32\n",
      "***** Eval results *****\n",
      "eval loss: 0.5315547261919294\n",
      "acc = 0.7839285714285714\n",
      "f1 = 0.6566115895641812\n"
     ]
    },
    {
     "name": "stderr",
     "output_type": "stream",
     "text": [
      "C:\\Users\\harsh\\AppData\\Roaming\\Python\\Python39\\site-packages\\torch\\nn\\functional.py:1944: UserWarning: nn.functional.sigmoid is deprecated. Use torch.sigmoid instead.\n",
      "  warnings.warn(\"nn.functional.sigmoid is deprecated. Use torch.sigmoid instead.\")\n"
     ]
    },
    {
     "name": "stdout",
     "output_type": "stream",
     "text": [
      "***** Running evaluation *****\n",
      "Num examples: 1120; Batch size: 32\n",
      "***** Eval results *****\n",
      "eval loss: 0.5118758878537587\n",
      "acc = 0.7964285714285714\n",
      "f1 = 0.7013651987028003\n"
     ]
    },
    {
     "name": "stderr",
     "output_type": "stream",
     "text": [
      "C:\\Users\\harsh\\AppData\\Roaming\\Python\\Python39\\site-packages\\torch\\nn\\functional.py:1944: UserWarning: nn.functional.sigmoid is deprecated. Use torch.sigmoid instead.\n",
      "  warnings.warn(\"nn.functional.sigmoid is deprecated. Use torch.sigmoid instead.\")\n",
      "Epoch:  27%|████████████████████▎                                                       | 8/30 [00:52<02:23,  6.52s/it]"
     ]
    },
    {
     "name": "stdout",
     "output_type": "stream",
     "text": [
      "***** Running evaluation *****\n",
      "Num examples: 1120; Batch size: 32\n",
      "***** Eval results *****\n",
      "eval loss: 0.5086168480770928\n",
      "acc = 0.7928571428571428\n",
      "f1 = 0.67651992730436\n"
     ]
    },
    {
     "name": "stderr",
     "output_type": "stream",
     "text": [
      "C:\\Users\\harsh\\AppData\\Roaming\\Python\\Python39\\site-packages\\torch\\nn\\functional.py:1944: UserWarning: nn.functional.sigmoid is deprecated. Use torch.sigmoid instead.\n",
      "  warnings.warn(\"nn.functional.sigmoid is deprecated. Use torch.sigmoid instead.\")\n"
     ]
    },
    {
     "name": "stdout",
     "output_type": "stream",
     "text": [
      "***** Running evaluation *****\n",
      "Num examples: 1120; Batch size: 32\n",
      "***** Eval results *****\n",
      "eval loss: 0.4855057043688638\n",
      "acc = 0.7964285714285714\n",
      "f1 = 0.6897311145605204\n"
     ]
    },
    {
     "name": "stderr",
     "output_type": "stream",
     "text": [
      "C:\\Users\\harsh\\AppData\\Roaming\\Python\\Python39\\site-packages\\torch\\nn\\functional.py:1944: UserWarning: nn.functional.sigmoid is deprecated. Use torch.sigmoid instead.\n",
      "  warnings.warn(\"nn.functional.sigmoid is deprecated. Use torch.sigmoid instead.\")\n",
      "Epoch:  30%|██████████████████████▊                                                     | 9/30 [00:58<02:14,  6.41s/it]"
     ]
    },
    {
     "name": "stdout",
     "output_type": "stream",
     "text": [
      "***** Running evaluation *****\n",
      "Num examples: 1120; Batch size: 32\n",
      "***** Eval results *****\n",
      "eval loss: 0.5141562219176974\n",
      "acc = 0.7883928571428571\n",
      "f1 = 0.6690371260683761\n"
     ]
    },
    {
     "name": "stderr",
     "output_type": "stream",
     "text": [
      "C:\\Users\\harsh\\AppData\\Roaming\\Python\\Python39\\site-packages\\torch\\nn\\functional.py:1944: UserWarning: nn.functional.sigmoid is deprecated. Use torch.sigmoid instead.\n",
      "  warnings.warn(\"nn.functional.sigmoid is deprecated. Use torch.sigmoid instead.\")\n"
     ]
    },
    {
     "name": "stdout",
     "output_type": "stream",
     "text": [
      "***** Running evaluation *****\n",
      "Num examples: 1120; Batch size: 32\n",
      "***** Eval results *****\n",
      "eval loss: 0.49846009867531915\n",
      "acc = 0.7785714285714286\n",
      "f1 = 0.622726782825295\n"
     ]
    },
    {
     "name": "stderr",
     "output_type": "stream",
     "text": [
      "C:\\Users\\harsh\\AppData\\Roaming\\Python\\Python39\\site-packages\\torch\\nn\\functional.py:1944: UserWarning: nn.functional.sigmoid is deprecated. Use torch.sigmoid instead.\n",
      "  warnings.warn(\"nn.functional.sigmoid is deprecated. Use torch.sigmoid instead.\")\n",
      "Epoch:  33%|█████████████████████████                                                  | 10/30 [01:04<02:06,  6.32s/it]"
     ]
    },
    {
     "name": "stdout",
     "output_type": "stream",
     "text": [
      "***** Running evaluation *****\n",
      "Num examples: 1120; Batch size: 32\n",
      "***** Eval results *****\n",
      "eval loss: 0.49230505313192097\n",
      "acc = 0.7928571428571428\n",
      "f1 = 0.6679015092849588\n"
     ]
    },
    {
     "name": "stderr",
     "output_type": "stream",
     "text": [
      "C:\\Users\\harsh\\AppData\\Roaming\\Python\\Python39\\site-packages\\torch\\nn\\functional.py:1944: UserWarning: nn.functional.sigmoid is deprecated. Use torch.sigmoid instead.\n",
      "  warnings.warn(\"nn.functional.sigmoid is deprecated. Use torch.sigmoid instead.\")\n"
     ]
    },
    {
     "name": "stdout",
     "output_type": "stream",
     "text": [
      "***** Running evaluation *****\n",
      "Num examples: 1120; Batch size: 32\n",
      "***** Eval results *****\n",
      "eval loss: 0.5493175551295281\n",
      "acc = 0.7785714285714286\n",
      "f1 = 0.6194361362666795\n"
     ]
    },
    {
     "name": "stderr",
     "output_type": "stream",
     "text": [
      "C:\\Users\\harsh\\AppData\\Roaming\\Python\\Python39\\site-packages\\torch\\nn\\functional.py:1944: UserWarning: nn.functional.sigmoid is deprecated. Use torch.sigmoid instead.\n",
      "  warnings.warn(\"nn.functional.sigmoid is deprecated. Use torch.sigmoid instead.\")\n",
      "Epoch:  37%|███████████████████████████▍                                               | 11/30 [01:10<01:59,  6.29s/it]"
     ]
    },
    {
     "name": "stdout",
     "output_type": "stream",
     "text": [
      "***** Running evaluation *****\n",
      "Num examples: 1120; Batch size: 32\n",
      "***** Eval results *****\n",
      "eval loss: 0.49645218891756876\n",
      "acc = 0.7955357142857142\n",
      "f1 = 0.6594844048816298\n"
     ]
    },
    {
     "name": "stderr",
     "output_type": "stream",
     "text": [
      "C:\\Users\\harsh\\AppData\\Roaming\\Python\\Python39\\site-packages\\torch\\nn\\functional.py:1944: UserWarning: nn.functional.sigmoid is deprecated. Use torch.sigmoid instead.\n",
      "  warnings.warn(\"nn.functional.sigmoid is deprecated. Use torch.sigmoid instead.\")\n"
     ]
    },
    {
     "name": "stdout",
     "output_type": "stream",
     "text": [
      "***** Running evaluation *****\n",
      "Num examples: 1120; Batch size: 32\n",
      "***** Eval results *****\n",
      "eval loss: 0.4865371086767742\n",
      "acc = 0.7928571428571428\n",
      "f1 = 0.6551765755074818\n"
     ]
    },
    {
     "name": "stderr",
     "output_type": "stream",
     "text": [
      "C:\\Users\\harsh\\AppData\\Roaming\\Python\\Python39\\site-packages\\torch\\nn\\functional.py:1944: UserWarning: nn.functional.sigmoid is deprecated. Use torch.sigmoid instead.\n",
      "  warnings.warn(\"nn.functional.sigmoid is deprecated. Use torch.sigmoid instead.\")\n"
     ]
    },
    {
     "name": "stdout",
     "output_type": "stream",
     "text": [
      "***** Running evaluation *****\n",
      "Num examples: 1120; Batch size: 32\n",
      "***** Eval results *****\n",
      "eval loss: 0.4687663206032344\n",
      "acc = 0.7901785714285714\n",
      "f1 = 0.650459530773844\n"
     ]
    },
    {
     "name": "stderr",
     "output_type": "stream",
     "text": [
      "C:\\Users\\harsh\\AppData\\Roaming\\Python\\Python39\\site-packages\\torch\\nn\\functional.py:1944: UserWarning: nn.functional.sigmoid is deprecated. Use torch.sigmoid instead.\n",
      "  warnings.warn(\"nn.functional.sigmoid is deprecated. Use torch.sigmoid instead.\")\n",
      "Epoch:  40%|██████████████████████████████                                             | 12/30 [01:17<01:57,  6.51s/it]"
     ]
    },
    {
     "name": "stdout",
     "output_type": "stream",
     "text": [
      "***** Running evaluation *****\n",
      "Num examples: 1120; Batch size: 32\n",
      "***** Eval results *****\n",
      "eval loss: 0.4814083184514727\n",
      "acc = 0.7955357142857142\n",
      "f1 = 0.6770334799352278\n"
     ]
    },
    {
     "name": "stderr",
     "output_type": "stream",
     "text": [
      "C:\\Users\\harsh\\AppData\\Roaming\\Python\\Python39\\site-packages\\torch\\nn\\functional.py:1944: UserWarning: nn.functional.sigmoid is deprecated. Use torch.sigmoid instead.\n",
      "  warnings.warn(\"nn.functional.sigmoid is deprecated. Use torch.sigmoid instead.\")\n"
     ]
    },
    {
     "name": "stdout",
     "output_type": "stream",
     "text": [
      "***** Running evaluation *****\n",
      "Num examples: 1120; Batch size: 32\n",
      "***** Eval results *****\n",
      "eval loss: 0.46688956086124694\n",
      "acc = 0.8116071428571429\n",
      "f1 = 0.716698347401095\n"
     ]
    },
    {
     "name": "stderr",
     "output_type": "stream",
     "text": [
      "C:\\Users\\harsh\\AppData\\Roaming\\Python\\Python39\\site-packages\\torch\\nn\\functional.py:1944: UserWarning: nn.functional.sigmoid is deprecated. Use torch.sigmoid instead.\n",
      "  warnings.warn(\"nn.functional.sigmoid is deprecated. Use torch.sigmoid instead.\")\n",
      "Epoch:  43%|████████████████████████████████▌                                          | 13/30 [01:24<01:54,  6.71s/it]"
     ]
    },
    {
     "name": "stdout",
     "output_type": "stream",
     "text": [
      "***** Running evaluation *****\n",
      "Num examples: 1120; Batch size: 32\n",
      "***** Eval results *****\n",
      "eval loss: 0.46680537526096616\n",
      "acc = 0.8098214285714286\n",
      "f1 = 0.7328083454021673\n"
     ]
    },
    {
     "name": "stderr",
     "output_type": "stream",
     "text": [
      "C:\\Users\\harsh\\AppData\\Roaming\\Python\\Python39\\site-packages\\torch\\nn\\functional.py:1944: UserWarning: nn.functional.sigmoid is deprecated. Use torch.sigmoid instead.\n",
      "  warnings.warn(\"nn.functional.sigmoid is deprecated. Use torch.sigmoid instead.\")\n"
     ]
    },
    {
     "name": "stdout",
     "output_type": "stream",
     "text": [
      "***** Running evaluation *****\n",
      "Num examples: 1120; Batch size: 32\n",
      "***** Eval results *****\n",
      "eval loss: 0.5260417437979154\n",
      "acc = 0.8044642857142857\n",
      "f1 = 0.6937906758139286\n"
     ]
    },
    {
     "name": "stderr",
     "output_type": "stream",
     "text": [
      "C:\\Users\\harsh\\AppData\\Roaming\\Python\\Python39\\site-packages\\torch\\nn\\functional.py:1944: UserWarning: nn.functional.sigmoid is deprecated. Use torch.sigmoid instead.\n",
      "  warnings.warn(\"nn.functional.sigmoid is deprecated. Use torch.sigmoid instead.\")\n",
      "Epoch:  47%|███████████████████████████████████                                        | 14/30 [01:31<01:45,  6.57s/it]"
     ]
    },
    {
     "name": "stdout",
     "output_type": "stream",
     "text": [
      "***** Running evaluation *****\n",
      "Num examples: 1120; Batch size: 32\n",
      "***** Eval results *****\n",
      "eval loss: 0.48428274307932173\n",
      "acc = 0.7973214285714286\n",
      "f1 = 0.6994481927052082\n"
     ]
    },
    {
     "name": "stderr",
     "output_type": "stream",
     "text": [
      "C:\\Users\\harsh\\AppData\\Roaming\\Python\\Python39\\site-packages\\torch\\nn\\functional.py:1944: UserWarning: nn.functional.sigmoid is deprecated. Use torch.sigmoid instead.\n",
      "  warnings.warn(\"nn.functional.sigmoid is deprecated. Use torch.sigmoid instead.\")\n"
     ]
    },
    {
     "name": "stdout",
     "output_type": "stream",
     "text": [
      "***** Running evaluation *****\n",
      "Num examples: 1120; Batch size: 32\n",
      "***** Eval results *****\n",
      "eval loss: 0.49098683765956336\n",
      "acc = 0.7892857142857143\n",
      "f1 = 0.6826901286285952\n"
     ]
    },
    {
     "name": "stderr",
     "output_type": "stream",
     "text": [
      "C:\\Users\\harsh\\AppData\\Roaming\\Python\\Python39\\site-packages\\torch\\nn\\functional.py:1944: UserWarning: nn.functional.sigmoid is deprecated. Use torch.sigmoid instead.\n",
      "  warnings.warn(\"nn.functional.sigmoid is deprecated. Use torch.sigmoid instead.\")\n",
      "Epoch:  50%|█████████████████████████████████████▌                                     | 15/30 [01:37<01:37,  6.48s/it]"
     ]
    },
    {
     "name": "stdout",
     "output_type": "stream",
     "text": [
      "***** Running evaluation *****\n",
      "Num examples: 1120; Batch size: 32\n",
      "***** Eval results *****\n",
      "eval loss: 0.5433629497885704\n",
      "acc = 0.7946428571428571\n",
      "f1 = 0.6699969987725246\n"
     ]
    },
    {
     "name": "stderr",
     "output_type": "stream",
     "text": [
      "C:\\Users\\harsh\\AppData\\Roaming\\Python\\Python39\\site-packages\\torch\\nn\\functional.py:1944: UserWarning: nn.functional.sigmoid is deprecated. Use torch.sigmoid instead.\n",
      "  warnings.warn(\"nn.functional.sigmoid is deprecated. Use torch.sigmoid instead.\")\n"
     ]
    },
    {
     "name": "stdout",
     "output_type": "stream",
     "text": [
      "***** Running evaluation *****\n",
      "Num examples: 1120; Batch size: 32\n",
      "***** Eval results *****\n",
      "eval loss: 0.5204979140843664\n",
      "acc = 0.7866071428571428\n",
      "f1 = 0.6728934288290566\n"
     ]
    },
    {
     "name": "stderr",
     "output_type": "stream",
     "text": [
      "C:\\Users\\harsh\\AppData\\Roaming\\Python\\Python39\\site-packages\\torch\\nn\\functional.py:1944: UserWarning: nn.functional.sigmoid is deprecated. Use torch.sigmoid instead.\n",
      "  warnings.warn(\"nn.functional.sigmoid is deprecated. Use torch.sigmoid instead.\")\n"
     ]
    },
    {
     "name": "stdout",
     "output_type": "stream",
     "text": [
      "***** Running evaluation *****\n",
      "Num examples: 1120; Batch size: 32\n",
      "***** Eval results *****\n",
      "eval loss: 0.5045887608613286\n",
      "acc = 0.7982142857142858\n",
      "f1 = 0.6778616632435445\n"
     ]
    },
    {
     "name": "stderr",
     "output_type": "stream",
     "text": [
      "C:\\Users\\harsh\\AppData\\Roaming\\Python\\Python39\\site-packages\\torch\\nn\\functional.py:1944: UserWarning: nn.functional.sigmoid is deprecated. Use torch.sigmoid instead.\n",
      "  warnings.warn(\"nn.functional.sigmoid is deprecated. Use torch.sigmoid instead.\")\n",
      "Epoch:  53%|████████████████████████████████████████                                   | 16/30 [01:43<01:31,  6.51s/it]"
     ]
    },
    {
     "name": "stdout",
     "output_type": "stream",
     "text": [
      "***** Running evaluation *****\n",
      "Num examples: 1120; Batch size: 32\n",
      "***** Eval results *****\n",
      "eval loss: 0.5349348240665027\n",
      "acc = 0.7928571428571428\n",
      "f1 = 0.6631491638189178\n"
     ]
    },
    {
     "name": "stderr",
     "output_type": "stream",
     "text": [
      "C:\\Users\\harsh\\AppData\\Roaming\\Python\\Python39\\site-packages\\torch\\nn\\functional.py:1944: UserWarning: nn.functional.sigmoid is deprecated. Use torch.sigmoid instead.\n",
      "  warnings.warn(\"nn.functional.sigmoid is deprecated. Use torch.sigmoid instead.\")\n"
     ]
    },
    {
     "name": "stdout",
     "output_type": "stream",
     "text": [
      "***** Running evaluation *****\n",
      "Num examples: 1120; Batch size: 32\n",
      "***** Eval results *****\n",
      "eval loss: 0.4910818989787783\n",
      "acc = 0.8008928571428572\n",
      "f1 = 0.7059843117074901\n"
     ]
    },
    {
     "name": "stderr",
     "output_type": "stream",
     "text": [
      "C:\\Users\\harsh\\AppData\\Roaming\\Python\\Python39\\site-packages\\torch\\nn\\functional.py:1944: UserWarning: nn.functional.sigmoid is deprecated. Use torch.sigmoid instead.\n",
      "  warnings.warn(\"nn.functional.sigmoid is deprecated. Use torch.sigmoid instead.\")\n",
      "Epoch:  57%|██████████████████████████████████████████▌                                | 17/30 [01:50<01:24,  6.51s/it]"
     ]
    },
    {
     "name": "stdout",
     "output_type": "stream",
     "text": [
      "***** Running evaluation *****\n",
      "Num examples: 1120; Batch size: 32\n",
      "***** Eval results *****\n",
      "eval loss: 0.5062486461230686\n",
      "acc = 0.7991071428571429\n",
      "f1 = 0.6989293958612518\n"
     ]
    },
    {
     "name": "stderr",
     "output_type": "stream",
     "text": [
      "C:\\Users\\harsh\\AppData\\Roaming\\Python\\Python39\\site-packages\\torch\\nn\\functional.py:1944: UserWarning: nn.functional.sigmoid is deprecated. Use torch.sigmoid instead.\n",
      "  warnings.warn(\"nn.functional.sigmoid is deprecated. Use torch.sigmoid instead.\")\n"
     ]
    },
    {
     "name": "stdout",
     "output_type": "stream",
     "text": [
      "***** Running evaluation *****\n",
      "Num examples: 1120; Batch size: 32\n",
      "***** Eval results *****\n",
      "eval loss: 0.5189371988177299\n",
      "acc = 0.7973214285714286\n",
      "f1 = 0.6885009610627296\n"
     ]
    },
    {
     "name": "stderr",
     "output_type": "stream",
     "text": [
      "C:\\Users\\harsh\\AppData\\Roaming\\Python\\Python39\\site-packages\\torch\\nn\\functional.py:1944: UserWarning: nn.functional.sigmoid is deprecated. Use torch.sigmoid instead.\n",
      "  warnings.warn(\"nn.functional.sigmoid is deprecated. Use torch.sigmoid instead.\")\n",
      "Epoch:  60%|█████████████████████████████████████████████                              | 18/30 [01:56<01:18,  6.51s/it]"
     ]
    },
    {
     "name": "stdout",
     "output_type": "stream",
     "text": [
      "***** Running evaluation *****\n",
      "Num examples: 1120; Batch size: 32\n",
      "***** Eval results *****\n",
      "eval loss: 0.5104115630899156\n",
      "acc = 0.7991071428571429\n",
      "f1 = 0.6741096000360477\n"
     ]
    },
    {
     "name": "stderr",
     "output_type": "stream",
     "text": [
      "C:\\Users\\harsh\\AppData\\Roaming\\Python\\Python39\\site-packages\\torch\\nn\\functional.py:1944: UserWarning: nn.functional.sigmoid is deprecated. Use torch.sigmoid instead.\n",
      "  warnings.warn(\"nn.functional.sigmoid is deprecated. Use torch.sigmoid instead.\")\n"
     ]
    },
    {
     "name": "stdout",
     "output_type": "stream",
     "text": [
      "***** Running evaluation *****\n",
      "Num examples: 1120; Batch size: 32\n",
      "***** Eval results *****\n",
      "eval loss: 0.4673972274575915\n",
      "acc = 0.8098214285714286\n",
      "f1 = 0.7231231716032575\n"
     ]
    },
    {
     "name": "stderr",
     "output_type": "stream",
     "text": [
      "C:\\Users\\harsh\\AppData\\Roaming\\Python\\Python39\\site-packages\\torch\\nn\\functional.py:1944: UserWarning: nn.functional.sigmoid is deprecated. Use torch.sigmoid instead.\n",
      "  warnings.warn(\"nn.functional.sigmoid is deprecated. Use torch.sigmoid instead.\")\n",
      "Epoch:  63%|███████████████████████████████████████████████▌                           | 19/30 [02:03<01:10,  6.39s/it]"
     ]
    },
    {
     "name": "stdout",
     "output_type": "stream",
     "text": [
      "***** Running evaluation *****\n",
      "Num examples: 1120; Batch size: 32\n",
      "***** Eval results *****\n",
      "eval loss: 0.47797301198754993\n",
      "acc = 0.7973214285714286\n",
      "f1 = 0.6917158173629816\n"
     ]
    },
    {
     "name": "stderr",
     "output_type": "stream",
     "text": [
      "C:\\Users\\harsh\\AppData\\Roaming\\Python\\Python39\\site-packages\\torch\\nn\\functional.py:1944: UserWarning: nn.functional.sigmoid is deprecated. Use torch.sigmoid instead.\n",
      "  warnings.warn(\"nn.functional.sigmoid is deprecated. Use torch.sigmoid instead.\")\n"
     ]
    },
    {
     "name": "stdout",
     "output_type": "stream",
     "text": [
      "***** Running evaluation *****\n",
      "Num examples: 1120; Batch size: 32\n",
      "***** Eval results *****\n",
      "eval loss: 0.4730937059436526\n",
      "acc = 0.8142857142857143\n",
      "f1 = 0.7299599235164466\n"
     ]
    },
    {
     "name": "stderr",
     "output_type": "stream",
     "text": [
      "C:\\Users\\harsh\\AppData\\Roaming\\Python\\Python39\\site-packages\\torch\\nn\\functional.py:1944: UserWarning: nn.functional.sigmoid is deprecated. Use torch.sigmoid instead.\n",
      "  warnings.warn(\"nn.functional.sigmoid is deprecated. Use torch.sigmoid instead.\")\n"
     ]
    },
    {
     "name": "stdout",
     "output_type": "stream",
     "text": [
      "***** Running evaluation *****\n",
      "Num examples: 1120; Batch size: 32\n",
      "***** Eval results *****\n",
      "eval loss: 0.49624334552458355\n",
      "acc = 0.8017857142857143\n",
      "f1 = 0.68590420738479\n"
     ]
    },
    {
     "name": "stderr",
     "output_type": "stream",
     "text": [
      "C:\\Users\\harsh\\AppData\\Roaming\\Python\\Python39\\site-packages\\torch\\nn\\functional.py:1944: UserWarning: nn.functional.sigmoid is deprecated. Use torch.sigmoid instead.\n",
      "  warnings.warn(\"nn.functional.sigmoid is deprecated. Use torch.sigmoid instead.\")\n",
      "Epoch:  67%|██████████████████████████████████████████████████                         | 20/30 [02:09<01:04,  6.46s/it]"
     ]
    },
    {
     "name": "stdout",
     "output_type": "stream",
     "text": [
      "***** Running evaluation *****\n",
      "Num examples: 1120; Batch size: 32\n",
      "***** Eval results *****\n",
      "eval loss: 0.5272850670984813\n",
      "acc = 0.7883928571428571\n",
      "f1 = 0.6663664316511588\n"
     ]
    },
    {
     "name": "stderr",
     "output_type": "stream",
     "text": [
      "C:\\Users\\harsh\\AppData\\Roaming\\Python\\Python39\\site-packages\\torch\\nn\\functional.py:1944: UserWarning: nn.functional.sigmoid is deprecated. Use torch.sigmoid instead.\n",
      "  warnings.warn(\"nn.functional.sigmoid is deprecated. Use torch.sigmoid instead.\")\n"
     ]
    },
    {
     "name": "stdout",
     "output_type": "stream",
     "text": [
      "***** Running evaluation *****\n",
      "Num examples: 1120; Batch size: 32\n",
      "***** Eval results *****\n",
      "eval loss: 0.5015312207596643\n",
      "acc = 0.8116071428571429\n",
      "f1 = 0.7157348268049978\n"
     ]
    },
    {
     "name": "stderr",
     "output_type": "stream",
     "text": [
      "C:\\Users\\harsh\\AppData\\Roaming\\Python\\Python39\\site-packages\\torch\\nn\\functional.py:1944: UserWarning: nn.functional.sigmoid is deprecated. Use torch.sigmoid instead.\n",
      "  warnings.warn(\"nn.functional.sigmoid is deprecated. Use torch.sigmoid instead.\")\n",
      "Epoch:  70%|████████████████████████████████████████████████████▌                      | 21/30 [02:15<00:57,  6.39s/it]"
     ]
    },
    {
     "name": "stdout",
     "output_type": "stream",
     "text": [
      "***** Running evaluation *****\n",
      "Num examples: 1120; Batch size: 32\n",
      "***** Eval results *****\n",
      "eval loss: 0.5129166771258626\n",
      "acc = 0.8\n",
      "f1 = 0.6802286035918156\n"
     ]
    },
    {
     "name": "stderr",
     "output_type": "stream",
     "text": [
      "C:\\Users\\harsh\\AppData\\Roaming\\Python\\Python39\\site-packages\\torch\\nn\\functional.py:1944: UserWarning: nn.functional.sigmoid is deprecated. Use torch.sigmoid instead.\n",
      "  warnings.warn(\"nn.functional.sigmoid is deprecated. Use torch.sigmoid instead.\")\n"
     ]
    },
    {
     "name": "stdout",
     "output_type": "stream",
     "text": [
      "***** Running evaluation *****\n",
      "Num examples: 1120; Batch size: 32\n",
      "***** Eval results *****\n",
      "eval loss: 0.5026693516543933\n",
      "acc = 0.8044642857142857\n",
      "f1 = 0.7104014006906606\n"
     ]
    },
    {
     "name": "stderr",
     "output_type": "stream",
     "text": [
      "C:\\Users\\harsh\\AppData\\Roaming\\Python\\Python39\\site-packages\\torch\\nn\\functional.py:1944: UserWarning: nn.functional.sigmoid is deprecated. Use torch.sigmoid instead.\n",
      "  warnings.warn(\"nn.functional.sigmoid is deprecated. Use torch.sigmoid instead.\")\n",
      "Epoch:  73%|██████████████████████████████████████████████████████▉                    | 22/30 [02:22<00:51,  6.47s/it]"
     ]
    },
    {
     "name": "stdout",
     "output_type": "stream",
     "text": [
      "***** Running evaluation *****\n",
      "Num examples: 1120; Batch size: 32\n",
      "***** Eval results *****\n",
      "eval loss: 0.5780539757439068\n",
      "acc = 0.7964285714285714\n",
      "f1 = 0.6884654974573675\n"
     ]
    },
    {
     "name": "stderr",
     "output_type": "stream",
     "text": [
      "C:\\Users\\harsh\\AppData\\Roaming\\Python\\Python39\\site-packages\\torch\\nn\\functional.py:1944: UserWarning: nn.functional.sigmoid is deprecated. Use torch.sigmoid instead.\n",
      "  warnings.warn(\"nn.functional.sigmoid is deprecated. Use torch.sigmoid instead.\")\n"
     ]
    },
    {
     "name": "stdout",
     "output_type": "stream",
     "text": [
      "***** Running evaluation *****\n",
      "Num examples: 1120; Batch size: 32\n",
      "***** Eval results *****\n",
      "eval loss: 0.5423883295484951\n",
      "acc = 0.7982142857142858\n",
      "f1 = 0.6927624191232553\n"
     ]
    },
    {
     "name": "stderr",
     "output_type": "stream",
     "text": [
      "C:\\Users\\harsh\\AppData\\Roaming\\Python\\Python39\\site-packages\\torch\\nn\\functional.py:1944: UserWarning: nn.functional.sigmoid is deprecated. Use torch.sigmoid instead.\n",
      "  warnings.warn(\"nn.functional.sigmoid is deprecated. Use torch.sigmoid instead.\")\n",
      "Epoch:  77%|█████████████████████████████████████████████████████████▌                 | 23/30 [02:29<00:46,  6.60s/it]"
     ]
    },
    {
     "name": "stdout",
     "output_type": "stream",
     "text": [
      "***** Running evaluation *****\n",
      "Num examples: 1120; Batch size: 32\n",
      "***** Eval results *****\n",
      "eval loss: 0.504732378252915\n",
      "acc = 0.7964285714285714\n",
      "f1 = 0.687215831466227\n"
     ]
    },
    {
     "name": "stderr",
     "output_type": "stream",
     "text": [
      "C:\\Users\\harsh\\AppData\\Roaming\\Python\\Python39\\site-packages\\torch\\nn\\functional.py:1944: UserWarning: nn.functional.sigmoid is deprecated. Use torch.sigmoid instead.\n",
      "  warnings.warn(\"nn.functional.sigmoid is deprecated. Use torch.sigmoid instead.\")\n"
     ]
    },
    {
     "name": "stdout",
     "output_type": "stream",
     "text": [
      "***** Running evaluation *****\n",
      "Num examples: 1120; Batch size: 32\n",
      "***** Eval results *****\n",
      "eval loss: 0.6181614096675601\n",
      "acc = 0.7642857142857142\n",
      "f1 = 0.6063954466655944\n"
     ]
    },
    {
     "name": "stderr",
     "output_type": "stream",
     "text": [
      "C:\\Users\\harsh\\AppData\\Roaming\\Python\\Python39\\site-packages\\torch\\nn\\functional.py:1944: UserWarning: nn.functional.sigmoid is deprecated. Use torch.sigmoid instead.\n",
      "  warnings.warn(\"nn.functional.sigmoid is deprecated. Use torch.sigmoid instead.\")\n"
     ]
    },
    {
     "name": "stdout",
     "output_type": "stream",
     "text": [
      "***** Running evaluation *****\n",
      "Num examples: 1120; Batch size: 32\n",
      "***** Eval results *****\n",
      "eval loss: 0.5249249270984104\n",
      "acc = 0.7848214285714286\n",
      "f1 = 0.6434398542964272\n"
     ]
    },
    {
     "name": "stderr",
     "output_type": "stream",
     "text": [
      "C:\\Users\\harsh\\AppData\\Roaming\\Python\\Python39\\site-packages\\torch\\nn\\functional.py:1944: UserWarning: nn.functional.sigmoid is deprecated. Use torch.sigmoid instead.\n",
      "  warnings.warn(\"nn.functional.sigmoid is deprecated. Use torch.sigmoid instead.\")\n",
      "Epoch:  80%|████████████████████████████████████████████████████████████               | 24/30 [02:36<00:40,  6.72s/it]"
     ]
    },
    {
     "name": "stdout",
     "output_type": "stream",
     "text": [
      "***** Running evaluation *****\n",
      "Num examples: 1120; Batch size: 32\n",
      "***** Eval results *****\n",
      "eval loss: 0.5300831317901611\n",
      "acc = 0.7892857142857143\n",
      "f1 = 0.6733821557076419\n"
     ]
    },
    {
     "name": "stderr",
     "output_type": "stream",
     "text": [
      "C:\\Users\\harsh\\AppData\\Roaming\\Python\\Python39\\site-packages\\torch\\nn\\functional.py:1944: UserWarning: nn.functional.sigmoid is deprecated. Use torch.sigmoid instead.\n",
      "  warnings.warn(\"nn.functional.sigmoid is deprecated. Use torch.sigmoid instead.\")\n"
     ]
    },
    {
     "name": "stdout",
     "output_type": "stream",
     "text": [
      "***** Running evaluation *****\n",
      "Num examples: 1120; Batch size: 32\n",
      "***** Eval results *****\n",
      "eval loss: 0.572998548405511\n",
      "acc = 0.7875\n",
      "f1 = 0.6839432993068132\n"
     ]
    },
    {
     "name": "stderr",
     "output_type": "stream",
     "text": [
      "C:\\Users\\harsh\\AppData\\Roaming\\Python\\Python39\\site-packages\\torch\\nn\\functional.py:1944: UserWarning: nn.functional.sigmoid is deprecated. Use torch.sigmoid instead.\n",
      "  warnings.warn(\"nn.functional.sigmoid is deprecated. Use torch.sigmoid instead.\")\n",
      "Epoch:  83%|██████████████████████████████████████████████████████████████▌            | 25/30 [02:43<00:33,  6.71s/it]"
     ]
    },
    {
     "name": "stdout",
     "output_type": "stream",
     "text": [
      "***** Running evaluation *****\n",
      "Num examples: 1120; Batch size: 32\n",
      "***** Eval results *****\n",
      "eval loss: 0.5396049571888787\n",
      "acc = 0.7973214285714286\n",
      "f1 = 0.6974373381129961\n"
     ]
    },
    {
     "name": "stderr",
     "output_type": "stream",
     "text": [
      "C:\\Users\\harsh\\AppData\\Roaming\\Python\\Python39\\site-packages\\torch\\nn\\functional.py:1944: UserWarning: nn.functional.sigmoid is deprecated. Use torch.sigmoid instead.\n",
      "  warnings.warn(\"nn.functional.sigmoid is deprecated. Use torch.sigmoid instead.\")\n"
     ]
    },
    {
     "name": "stdout",
     "output_type": "stream",
     "text": [
      "***** Running evaluation *****\n",
      "Num examples: 1120; Batch size: 32\n",
      "***** Eval results *****\n",
      "eval loss: 0.6019574033362525\n",
      "acc = 0.7982142857142858\n",
      "f1 = 0.697195895924246\n"
     ]
    },
    {
     "name": "stderr",
     "output_type": "stream",
     "text": [
      "C:\\Users\\harsh\\AppData\\Roaming\\Python\\Python39\\site-packages\\torch\\nn\\functional.py:1944: UserWarning: nn.functional.sigmoid is deprecated. Use torch.sigmoid instead.\n",
      "  warnings.warn(\"nn.functional.sigmoid is deprecated. Use torch.sigmoid instead.\")\n",
      "Epoch:  87%|█████████████████████████████████████████████████████████████████          | 26/30 [02:49<00:26,  6.62s/it]"
     ]
    },
    {
     "name": "stdout",
     "output_type": "stream",
     "text": [
      "***** Running evaluation *****\n",
      "Num examples: 1120; Batch size: 32\n",
      "***** Eval results *****\n",
      "eval loss: 0.5502734991056578\n",
      "acc = 0.8026785714285715\n",
      "f1 = 0.7149670703260536\n"
     ]
    },
    {
     "name": "stderr",
     "output_type": "stream",
     "text": [
      "C:\\Users\\harsh\\AppData\\Roaming\\Python\\Python39\\site-packages\\torch\\nn\\functional.py:1944: UserWarning: nn.functional.sigmoid is deprecated. Use torch.sigmoid instead.\n",
      "  warnings.warn(\"nn.functional.sigmoid is deprecated. Use torch.sigmoid instead.\")\n"
     ]
    },
    {
     "name": "stdout",
     "output_type": "stream",
     "text": [
      "***** Running evaluation *****\n",
      "Num examples: 1120; Batch size: 32\n",
      "***** Eval results *****\n",
      "eval loss: 0.6045613035559654\n",
      "acc = 0.7910714285714285\n",
      "f1 = 0.6821961720033092\n"
     ]
    },
    {
     "name": "stderr",
     "output_type": "stream",
     "text": [
      "C:\\Users\\harsh\\AppData\\Roaming\\Python\\Python39\\site-packages\\torch\\nn\\functional.py:1944: UserWarning: nn.functional.sigmoid is deprecated. Use torch.sigmoid instead.\n",
      "  warnings.warn(\"nn.functional.sigmoid is deprecated. Use torch.sigmoid instead.\")\n"
     ]
    },
    {
     "name": "stdout",
     "output_type": "stream",
     "text": [
      "***** Running evaluation *****\n",
      "Num examples: 1120; Batch size: 32\n"
     ]
    },
    {
     "name": "stderr",
     "output_type": "stream",
     "text": [
      "C:\\Users\\harsh\\AppData\\Roaming\\Python\\Python39\\site-packages\\torch\\nn\\functional.py:1944: UserWarning: nn.functional.sigmoid is deprecated. Use torch.sigmoid instead.\n",
      "  warnings.warn(\"nn.functional.sigmoid is deprecated. Use torch.sigmoid instead.\")\n",
      "\r",
      "Epoch:  90%|███████████████████████████████████████████████████████████████████▌       | 27/30 [02:56<00:19,  6.59s/it]"
     ]
    },
    {
     "name": "stdout",
     "output_type": "stream",
     "text": [
      "***** Eval results *****\n",
      "eval loss: 0.5895261751753943\n",
      "acc = 0.7991071428571429\n",
      "f1 = 0.7037871860182379\n",
      "***** Running evaluation *****\n",
      "Num examples: 1120; Batch size: 32\n",
      "***** Eval results *****\n",
      "eval loss: 0.5764501158680234\n",
      "acc = 0.7848214285714286\n",
      "f1 = 0.6816986471953359\n"
     ]
    },
    {
     "name": "stderr",
     "output_type": "stream",
     "text": [
      "C:\\Users\\harsh\\AppData\\Roaming\\Python\\Python39\\site-packages\\torch\\nn\\functional.py:1944: UserWarning: nn.functional.sigmoid is deprecated. Use torch.sigmoid instead.\n",
      "  warnings.warn(\"nn.functional.sigmoid is deprecated. Use torch.sigmoid instead.\")\n"
     ]
    },
    {
     "name": "stdout",
     "output_type": "stream",
     "text": [
      "***** Running evaluation *****\n",
      "Num examples: 1120; Batch size: 32\n",
      "***** Eval results *****\n",
      "eval loss: 0.5936164538775172\n",
      "acc = 0.7982142857142858\n",
      "f1 = 0.6920337988420338\n"
     ]
    },
    {
     "name": "stderr",
     "output_type": "stream",
     "text": [
      "C:\\Users\\harsh\\AppData\\Roaming\\Python\\Python39\\site-packages\\torch\\nn\\functional.py:1944: UserWarning: nn.functional.sigmoid is deprecated. Use torch.sigmoid instead.\n",
      "  warnings.warn(\"nn.functional.sigmoid is deprecated. Use torch.sigmoid instead.\")\n",
      "Epoch:  93%|██████████████████████████████████████████████████████████████████████     | 28/30 [03:02<00:12,  6.42s/it]"
     ]
    },
    {
     "name": "stdout",
     "output_type": "stream",
     "text": [
      "***** Running evaluation *****\n",
      "Num examples: 1120; Batch size: 32\n",
      "***** Eval results *****\n",
      "eval loss: 0.6399719670414925\n",
      "acc = 0.7875\n",
      "f1 = 0.6864237663099914\n"
     ]
    },
    {
     "name": "stderr",
     "output_type": "stream",
     "text": [
      "C:\\Users\\harsh\\AppData\\Roaming\\Python\\Python39\\site-packages\\torch\\nn\\functional.py:1944: UserWarning: nn.functional.sigmoid is deprecated. Use torch.sigmoid instead.\n",
      "  warnings.warn(\"nn.functional.sigmoid is deprecated. Use torch.sigmoid instead.\")\n"
     ]
    },
    {
     "name": "stdout",
     "output_type": "stream",
     "text": [
      "***** Running evaluation *****\n",
      "Num examples: 1120; Batch size: 32\n",
      "***** Eval results *****\n",
      "eval loss: 0.5775998331606388\n",
      "acc = 0.7830357142857143\n",
      "f1 = 0.667431675101315\n"
     ]
    },
    {
     "name": "stderr",
     "output_type": "stream",
     "text": [
      "C:\\Users\\harsh\\AppData\\Roaming\\Python\\Python39\\site-packages\\torch\\nn\\functional.py:1944: UserWarning: nn.functional.sigmoid is deprecated. Use torch.sigmoid instead.\n",
      "  warnings.warn(\"nn.functional.sigmoid is deprecated. Use torch.sigmoid instead.\")\n",
      "Epoch:  97%|████████████████████████████████████████████████████████████████████████▌  | 29/30 [03:08<00:06,  6.31s/it]"
     ]
    },
    {
     "name": "stdout",
     "output_type": "stream",
     "text": [
      "***** Running evaluation *****\n",
      "Num examples: 1120; Batch size: 32\n",
      "***** Eval results *****\n",
      "eval loss: 0.6090319974081857\n",
      "acc = 0.7910714285714285\n",
      "f1 = 0.7098520365156972\n"
     ]
    },
    {
     "name": "stderr",
     "output_type": "stream",
     "text": [
      "C:\\Users\\harsh\\AppData\\Roaming\\Python\\Python39\\site-packages\\torch\\nn\\functional.py:1944: UserWarning: nn.functional.sigmoid is deprecated. Use torch.sigmoid instead.\n",
      "  warnings.warn(\"nn.functional.sigmoid is deprecated. Use torch.sigmoid instead.\")\n"
     ]
    },
    {
     "name": "stdout",
     "output_type": "stream",
     "text": [
      "***** Running evaluation *****\n",
      "Num examples: 1120; Batch size: 32\n",
      "***** Eval results *****\n",
      "eval loss: 0.5639750237975801\n",
      "acc = 0.7991071428571429\n",
      "f1 = 0.6925182611953931\n"
     ]
    },
    {
     "name": "stderr",
     "output_type": "stream",
     "text": [
      "C:\\Users\\harsh\\AppData\\Roaming\\Python\\Python39\\site-packages\\torch\\nn\\functional.py:1944: UserWarning: nn.functional.sigmoid is deprecated. Use torch.sigmoid instead.\n",
      "  warnings.warn(\"nn.functional.sigmoid is deprecated. Use torch.sigmoid instead.\")\n",
      "Epoch: 100%|███████████████████████████████████████████████████████████████████████████| 30/30 [03:14<00:00,  6.48s/it]"
     ]
    },
    {
     "name": "stdout",
     "output_type": "stream",
     "text": [
      "  %s = %s acc 0.8142857142857143\n",
      "  %s = %s f1 0.7299599235164466\n"
     ]
    },
    {
     "name": "stderr",
     "output_type": "stream",
     "text": [
      "\n"
     ]
    }
   ],
   "source": [
    "# Setup CUDA, GPU training\n",
    "device = torch.device('cuda' if torch.cuda.is_available() else 'cpu')\n",
    "parameters.device = device\n",
    "print('Device is {}'.format(parameters.device))\n",
    "\n",
    "# Load datasets and vocabs\n",
    "train_dataset, test_dataset, word_vocab, dep_tag_vocab, pos_tag_vocab= load_datasets_and_vocabs(parameters)\n",
    "\n",
    "# Build Model\n",
    "# model = Aspect_Text_Multi_Syntax_Encoding(args, dep_tag_vocab['len'], pos_tag_vocab['len'])\n",
    "\n",
    "model = Aspect_Text_GAT_ours(parameters, dep_tag_vocab['len'], pos_tag_vocab['len']) # R-GAT with reshaped tree\n",
    "\n",
    "model.to(parameters.device)\n",
    "# Train\n",
    "_, _,  all_eval_results = train(parameters, train_dataset, model, test_dataset)\n",
    "\n",
    "if len(all_eval_results):\n",
    "    best_eval_result = max(all_eval_results, key=lambda x: x['acc']) \n",
    "    for key in sorted(best_eval_result.keys()):\n",
    "        print(\"  %s = %s\", key, str(best_eval_result[key]))"
   ]
  },
  {
   "cell_type": "code",
   "execution_count": null,
   "id": "2a6134d4",
   "metadata": {},
   "outputs": [],
   "source": []
  }
 ],
 "metadata": {
  "kernelspec": {
   "display_name": "Python 3 (ipykernel)",
   "language": "python",
   "name": "python3"
  },
  "language_info": {
   "codemirror_mode": {
    "name": "ipython",
    "version": 3
   },
   "file_extension": ".py",
   "mimetype": "text/x-python",
   "name": "python",
   "nbconvert_exporter": "python",
   "pygments_lexer": "ipython3",
   "version": "3.9.12"
  }
 },
 "nbformat": 4,
 "nbformat_minor": 5
}
